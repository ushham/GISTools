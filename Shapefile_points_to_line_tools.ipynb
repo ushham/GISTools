{
  "nbformat": 4,
  "nbformat_minor": 0,
  "metadata": {
    "colab": {
      "name": "Shapefile points to line tools",
      "provenance": [],
      "mount_file_id": "1iHllHd7_sWxA6UZeFVr5yNwLSlBOCGaC",
      "authorship_tag": "ABX9TyNvSz1DbAwQohoKSb8d1mRG",
      "include_colab_link": true
    },
    "kernelspec": {
      "name": "python3",
      "display_name": "Python 3"
    }
  },
  "cells": [
    {
      "cell_type": "markdown",
      "metadata": {
        "id": "view-in-github",
        "colab_type": "text"
      },
      "source": [
        "<a href=\"https://colab.research.google.com/github/ushham/GISTools/blob/main/Shapefile_points_to_line_tools.ipynb\" target=\"_parent\"><img src=\"https://colab.research.google.com/assets/colab-badge.svg\" alt=\"Open In Colab\"/></a>"
      ]
    },
    {
      "cell_type": "code",
      "metadata": {
        "id": "aFHJWSfMJcLO"
      },
      "source": [
        "!pip install podpac\r\n",
        "!pip install botocore\r\n",
        "!pip install boto3\r\n",
        "!pip install rasterio\r\n",
        "!pip install s3fs\r\n",
        "!pip install pyshp"
      ],
      "execution_count": null,
      "outputs": []
    },
    {
      "cell_type": "code",
      "metadata": {
        "id": "105ThqSzJ8au"
      },
      "source": [
        "from podpac.datalib.terraintiles import TerrainTiles\r\n",
        "from podpac import Coordinates, clinspace\r\n",
        "import podpac\r\n",
        "import numpy as np\r\n",
        "import pandas as pd\r\n",
        "import os\r\n",
        "import shapefile as shp\r\n",
        "import geopy.distance as dist"
      ],
      "execution_count": null,
      "outputs": []
    },
    {
      "cell_type": "markdown",
      "metadata": {
        "id": "-e74MhctQD1u"
      },
      "source": [
        "Function to find elevation using Podpac library\r\n"
      ]
    },
    {
      "cell_type": "code",
      "metadata": {
        "id": "9qErs2FuK4t2"
      },
      "source": [
        "def elevation(lat, lon):\r\n",
        "  node = TerrainTiles(zoom=14)\r\n",
        "  c = Coordinates([lat, lon], dims=['lat', 'lon'])\r\n",
        "\r\n",
        "  o = node.eval(c)\r\n",
        "  return float(o)"
      ],
      "execution_count": null,
      "outputs": []
    },
    {
      "cell_type": "markdown",
      "metadata": {
        "id": "DXrMmk-2RzVV"
      },
      "source": [
        "Open all shapefiles in given folder and find elevation given lat and lon"
      ]
    },
    {
      "cell_type": "code",
      "metadata": {
        "id": "soMMJ4Iy38YC"
      },
      "source": [
        "#Find shapefiles in given folder\r\n",
        "folderin = ''\r\n",
        "folderout = folderin + '/Elevation'\r\n",
        "\r\n",
        "loncol = 2\r\n",
        "latcol = 2\r\n",
        "\r\n",
        "files = os.listdir(folderin)\r\n",
        "\r\n",
        "#run through each file\r\n",
        "for f in files:\r\n",
        "  fi = folderin + '/' + f\r\n",
        "  of = folderout + '/' + f\r\n",
        "  print(fi)\r\n",
        "  #check the file is a shapefile\r\n",
        "  if os.path.splitext(fi)[1] == '.shp':\r\n",
        "    #Make reader and writer shapefile objects\r\n",
        "    r = shp.Reader(fi)\r\n",
        "    w = shp.Writer(of)\r\n",
        "\r\n",
        "    fields = list(r.fields)\r\n",
        "    w.fields = fields\r\n",
        "\r\n",
        "    #create new feild in writer to store elevation data\r\n",
        "    w.field('Elevation', 'N', decimal=6)\r\n",
        "\r\n",
        "    #pass data to elevation function\r\n",
        "    i = 0\r\n",
        "    for shaperec in r.iterShapeRecords():\r\n",
        "      data = [*shaperec.record]\r\n",
        "      lat, lon = data[latcol], data[loncol] #lat and lon columns\r\n",
        "      ele = elevation(lat, lon)\r\n",
        "      shaperec.record.append(ele)\r\n",
        "      w.record(*shaperec.record)\r\n",
        "      w.shape(shaperec.shape)\r\n",
        "\r\n",
        "    w.close()\r\n",
        "    r.close()"
      ],
      "execution_count": null,
      "outputs": []
    },
    {
      "cell_type": "markdown",
      "metadata": {
        "id": "tMHyEVAO-4II"
      },
      "source": [
        "Convert the pointshape file into a line shapefile, exporting records on elevation, distance, and gradient of each line"
      ]
    },
    {
      "cell_type": "code",
      "metadata": {
        "id": "AyYpUF67Hwme"
      },
      "source": [
        "#Find shapefiles in given folder\r\n",
        "folderin = ''\r\n",
        "folderout = folderin + '/Line'\r\n",
        "\r\n",
        "#column positions\r\n",
        "datecol = 1\r\n",
        "loncol = 2\r\n",
        "latcol = 2\r\n",
        "elecol = 4\r\n",
        "\r\n",
        "files = os.listdir(folderin)\r\n",
        "\r\n",
        "files = [f for f in files if not ('Camping' in f)]\r\n",
        "print(files)\r\n",
        "#run through each file\r\n",
        "for f in files:\r\n",
        "  fi = folderin + '/' + f\r\n",
        "  of = folderout + '/' + f\r\n",
        "\r\n",
        "  #check the file is a shapefile\r\n",
        "  if os.path.splitext(fi)[1] == '.shp':\r\n",
        "    print(fi)\r\n",
        "    #Make reader and writer shapefile objects\r\n",
        "    r = shp.Reader(fi)\r\n",
        "    w = shp.Writer(of, shp.POLYLINE) #polyline shapetype\r\n",
        "\r\n",
        "    w.field('Date')\r\n",
        "    w.field('StartEle', 'N', decimal=6) \r\n",
        "    w.field('EndEle', 'N', decimal=6) \r\n",
        "    w.field('Dist', 'N', decimal=6) \r\n",
        "    w.field('Gradient', 'N', decimal=6) \r\n",
        "\r\n",
        "    #list out all points\r\n",
        "    coords = []\r\n",
        "    i = 0\r\n",
        "    for shaperec in r.iterShapeRecords():\r\n",
        "      rec = [] \r\n",
        "      data = [*shaperec.record]\r\n",
        "      if i > 0:\r\n",
        "        #Create Line using starting lon, lat -> end lon lat\r\n",
        "        coords = [[prevdata[loncol], prevdata[latcol]], [data[loncol], data[latcol]]]\r\n",
        "        w.line([coords])\r\n",
        "\r\n",
        "        #create data record\r\n",
        "        d = dist.vincenty((prevdata[latcol], prevdata[loncol]), (data[latcol], data[loncol])).km * 1000\r\n",
        "        g = (data[elecol] - prevdata[elecol]) / d if d != 0 else 0\r\n",
        "        rec = [data[datecol], prevdata[elecol], data[elecol], d, g]\r\n",
        "        w.record(*rec)\r\n",
        "\r\n",
        "      i += 1\r\n",
        "      prevdata = data\r\n",
        "\r\n",
        "\r\n",
        "    w.close()\r\n",
        "    r.close()"
      ],
      "execution_count": null,
      "outputs": []
    },
    {
      "cell_type": "markdown",
      "metadata": {
        "id": "q1Mzq3qtJfM3"
      },
      "source": [
        "\r\n",
        "Open all shapefiles in folder and extract date, distance, and elevation between each point for graphing altitude"
      ]
    },
    {
      "cell_type": "code",
      "metadata": {
        "id": "8-vxrj3KJnPK"
      },
      "source": [
        "import reverse_geocoder \r\n",
        "\r\n",
        "#Find shapefiles in given folder\r\n",
        "folderin = ''\r\n",
        "\r\n",
        "files = sorted(os.listdir(folderin))\r\n",
        "holder = []\r\n",
        "cdist = 0       #cumulative distance holder\r\n",
        "\r\n",
        "idcol = 0 \r\n",
        "datecol = 1       #Date column\r\n",
        "elecol = 4      #elevation column\r\n",
        "latcol = 3\r\n",
        "loncol = 2\r\n",
        "\r\n",
        "files = [f for f in files if not ('Camping' in f)]\r\n",
        "\r\n",
        "def country(lat, lon):\r\n",
        "  coordinates = (lat, lon)\r\n",
        "  x = reverse_geocoder.search(coordinates)\r\n",
        "  return x[0]['cc']\r\n",
        "\r\n",
        "prevdata = ''\r\n",
        "#run through each file\r\n",
        "for f in files:\r\n",
        "  fi = folderin + '/' + f\r\n",
        "\r\n",
        "  #check the file is a shapefile\r\n",
        "  if os.path.splitext(fi)[1] == '.shp':\r\n",
        "    print(fi)\r\n",
        "    #Make reader and writer shapefile objects\r\n",
        "    r = shp.Reader(fi)\r\n",
        "    for shaperec in r.iterShapeRecords():\r\n",
        "      data = [*shaperec.record]\r\n",
        "\r\n",
        "      #find distance\r\n",
        "      if prevdata == '':\r\n",
        "        d = np.nan\r\n",
        "        g = np.nan\r\n",
        "      else:\r\n",
        "        d = dist.vincenty((prevdata[latcol], prevdata[loncol]), (data[latcol], data[loncol])).km * 1000\r\n",
        "        g = (data[elecol] - prevdata[elecol]) / d if d > 0 else 0\r\n",
        "        cdist += d\r\n",
        "      \r\n",
        "      ctry = country(data[latcol], data[loncol])\r\n",
        "\r\n",
        "      line = [data[idcol], data[datecol], data[latcol], data[loncol], cdist, d, data[elecol], g, ctry]\r\n",
        "      holder.append(line)\r\n",
        "\r\n",
        "      prevdata = data\r\n",
        "\r\n",
        "dfData = pd.DataFrame(holder, columns=['ID', 'Date', 'Lat', 'Lon', 'CulmDist', 'Dist', 'Ele', 'Gradient', 'Country'])\r\n",
        "dfData.to_csv(folderin + '/ElevationData.csv', index=False)\r\n"
      ],
      "execution_count": null,
      "outputs": []
    },
    {
      "cell_type": "markdown",
      "metadata": {
        "id": "hCTMJAInZrDS"
      },
      "source": [
        "Converts distance and elevation csv into elevation plot"
      ]
    },
    {
      "cell_type": "code",
      "metadata": {
        "colab": {
          "base_uri": "https://localhost:8080/",
          "height": 351
        },
        "id": "9EmeEGjLZtOK",
        "outputId": "601dc486-048d-442e-f348-5968bdb2dd15"
      },
      "source": [
        "import matplotlib.pyplot as plt\r\n",
        "import pandas as pd\r\n",
        "\r\n",
        "df = pd.read_csv('')\r\n",
        "\r\n",
        "fig, ax = plt.subplots(figsize=(15, 5))\r\n",
        "\r\n",
        "#Convert distance from km to m\r\n",
        "ax.plot(df['CulmDist']/1000, df['Ele'], color='mediumseagreen')\r\n",
        "\r\n",
        "ax.set_facecolor('dimgrey')\r\n",
        "ax.set_xlabel('Distance (km)')\r\n",
        "ax.set_ylabel('Alt (m)')\r\n",
        "plt.plot()\r\n"
      ],
      "execution_count": null,
      "outputs": [
        {
          "output_type": "execute_result",
          "data": {
            "text/plain": [
              "[]"
            ]
          },
          "metadata": {
            "tags": []
          },
          "execution_count": 36
        },
        {
          "output_type": "display_data",
          "data": {
            "image/png": "[encoded data removed]",
            "text/plain": [
              "<Figure size 1080x360 with 1 Axes>"
            ]
          },
          "metadata": {
            "tags": [],
            "needs_background": "light"
          }
        }
      ]
    }
  ]
}